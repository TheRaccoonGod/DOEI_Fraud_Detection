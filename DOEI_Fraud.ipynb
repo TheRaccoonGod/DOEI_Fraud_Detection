{
 "cells": [
  {
   "cell_type": "markdown",
   "metadata": {
    "id": "rKV6riTQfnoH"
   },
   "source": [
    "# Fraud Detection and Likelihood of Success Project\n",
    "\n",
    "## Main Goals:\n",
    "I want to be able to identify suspicious or fraudulent projects happening within economic development projects administered by the ESD based on historical data.  This identification will come from data where funding is disproportionate to project scope or industry, high job creation claims but low actual job creation, and large discrepancies between expected and actual disbursements.\n",
    "\n",
    "The second goal I have for this project is to create a model that will help the ESD determine which projects to fund."
   ]
  },
  {
   "cell_type": "markdown",
   "metadata": {},
   "source": [
    "## Data Exploration\n",
    "Exploring the data to see what variables I can work with"
   ]
  },
  {
   "cell_type": "code",
   "execution_count": 1,
   "metadata": {
    "id": "VWEIPpMfcL6B"
   },
   "outputs": [],
   "source": [
    "import pandas as pd\n",
    "import numpy as np\n",
    "import matplotlib.pyplot as plt\n",
    "import seaborn as sns\n",
    "from sklearn.model_selection import train_test_split"
   ]
  },
  {
   "cell_type": "code",
   "execution_count": 41,
   "metadata": {
    "colab": {
     "base_uri": "https://localhost:8080/",
     "height": 321
    },
    "id": "KevmgkJJVNNf",
    "outputId": "bd054ca5-2eef-496a-d883-c7d817425bbb"
   },
   "outputs": [
    {
     "name": "stderr",
     "output_type": "stream",
     "text": [
      "/var/folders/5m/n3lmdh1d5bl0t6d_1p3n_2wh0000gn/T/ipykernel_29527/1063969295.py:1: DtypeWarning: Columns (0,11,12,14,23,24,27,33,34,35) have mixed types. Specify dtype option on import or set low_memory=False.\n",
      "  df = pd.read_csv('DOEI_Fraud_data.csv')\n"
     ]
    },
    {
     "data": {
      "text/html": [
       "<div>\n",
       "<style scoped>\n",
       "    .dataframe tbody tr th:only-of-type {\n",
       "        vertical-align: middle;\n",
       "    }\n",
       "\n",
       "    .dataframe tbody tr th {\n",
       "        vertical-align: top;\n",
       "    }\n",
       "\n",
       "    .dataframe thead th {\n",
       "        text-align: right;\n",
       "    }\n",
       "</style>\n",
       "<table border=\"1\" class=\"dataframe\">\n",
       "  <thead>\n",
       "    <tr style=\"text-align: right;\">\n",
       "      <th></th>\n",
       "      <th>EIN of the recipient</th>\n",
       "      <th>Lead Agency Name</th>\n",
       "      <th>Lead Agency Code</th>\n",
       "      <th>Quarter Number of the Submission</th>\n",
       "      <th>Project ID Number</th>\n",
       "      <th>Program through which the funding was awarded</th>\n",
       "      <th>Recipient Name</th>\n",
       "      <th>Name of project</th>\n",
       "      <th>Is the Award to a Public or Private Sector Entity?</th>\n",
       "      <th>Project Description</th>\n",
       "      <th>...</th>\n",
       "      <th>Project Hires (PTs)</th>\n",
       "      <th>NYS MWBE Utilization Goal Applied</th>\n",
       "      <th>Current MWBE Utilization Rate</th>\n",
       "      <th>Is this a legacy project</th>\n",
       "      <th>Original Assistance Amount</th>\n",
       "      <th>Original Jobs Created (FTE)</th>\n",
       "      <th>Original Jobs Retained (FTE)</th>\n",
       "      <th>Original Total Public-Private Investment</th>\n",
       "      <th>Original Recipient</th>\n",
       "      <th>Contact</th>\n",
       "    </tr>\n",
       "  </thead>\n",
       "  <tbody>\n",
       "    <tr>\n",
       "      <th>0</th>\n",
       "      <td>16-09119851</td>\n",
       "      <td>ESD</td>\n",
       "      <td>291910</td>\n",
       "      <td>Q3 of SFY 2024-2025</td>\n",
       "      <td>123,581</td>\n",
       "      <td>Excelsior Jobs Program</td>\n",
       "      <td>Aakron Rule Corporation/ Wagner Pencil Company</td>\n",
       "      <td>Aakron Rule Excelsior</td>\n",
       "      <td>Private</td>\n",
       "      <td>Tax Credit, Manufacturing, Western New York, A...</td>\n",
       "      <td>...</td>\n",
       "      <td>NaN</td>\n",
       "      <td>NaN</td>\n",
       "      <td>NaN</td>\n",
       "      <td>Yes</td>\n",
       "      <td>NaN</td>\n",
       "      <td>NaN</td>\n",
       "      <td>NaN</td>\n",
       "      <td>NaN</td>\n",
       "      <td>NaN</td>\n",
       "      <td>database@esd.ny.gov</td>\n",
       "    </tr>\n",
       "    <tr>\n",
       "      <th>1</th>\n",
       "      <td>14-1811177</td>\n",
       "      <td>ESD</td>\n",
       "      <td>291910</td>\n",
       "      <td>Q3 of SFY 2024-2025</td>\n",
       "      <td>123,585</td>\n",
       "      <td>Regional Council Capital Fund</td>\n",
       "      <td>Schenectady Metroplex Development Authority</td>\n",
       "      <td>Robinson Block Capital</td>\n",
       "      <td>Public</td>\n",
       "      <td>Grant, Public Administration, Capital District...</td>\n",
       "      <td>...</td>\n",
       "      <td>NaN</td>\n",
       "      <td>NaN</td>\n",
       "      <td>NaN</td>\n",
       "      <td>Yes</td>\n",
       "      <td>NaN</td>\n",
       "      <td>NaN</td>\n",
       "      <td>NaN</td>\n",
       "      <td>NaN</td>\n",
       "      <td>NaN</td>\n",
       "      <td>database@esd.ny.gov</td>\n",
       "    </tr>\n",
       "  </tbody>\n",
       "</table>\n",
       "<p>2 rows × 60 columns</p>\n",
       "</div>"
      ],
      "text/plain": [
       "  EIN of the recipient Lead Agency Name  Lead Agency Code  \\\n",
       "0          16-09119851              ESD            291910   \n",
       "1           14-1811177              ESD            291910   \n",
       "\n",
       "  Quarter Number of the Submission Project ID Number  \\\n",
       "0              Q3 of SFY 2024-2025           123,581   \n",
       "1              Q3 of SFY 2024-2025           123,585   \n",
       "\n",
       "  Program through which the funding was awarded  \\\n",
       "0                        Excelsior Jobs Program   \n",
       "1                 Regional Council Capital Fund   \n",
       "\n",
       "                                   Recipient Name         Name of project  \\\n",
       "0  Aakron Rule Corporation/ Wagner Pencil Company   Aakron Rule Excelsior   \n",
       "1     Schenectady Metroplex Development Authority  Robinson Block Capital   \n",
       "\n",
       "  Is the Award to a Public or Private Sector Entity?  \\\n",
       "0                                            Private   \n",
       "1                                             Public   \n",
       "\n",
       "                                 Project Description  ... Project Hires (PTs)  \\\n",
       "0  Tax Credit, Manufacturing, Western New York, A...  ...                 NaN   \n",
       "1  Grant, Public Administration, Capital District...  ...                 NaN   \n",
       "\n",
       "  NYS MWBE Utilization Goal Applied Current MWBE Utilization Rate  \\\n",
       "0                               NaN                           NaN   \n",
       "1                               NaN                           NaN   \n",
       "\n",
       "  Is this a legacy project Original Assistance Amount  \\\n",
       "0                      Yes                        NaN   \n",
       "1                      Yes                        NaN   \n",
       "\n",
       "  Original Jobs Created (FTE) Original Jobs Retained (FTE)  \\\n",
       "0                         NaN                          NaN   \n",
       "1                         NaN                          NaN   \n",
       "\n",
       "  Original Total Public-Private Investment Original Recipient  \\\n",
       "0                                      NaN                NaN   \n",
       "1                                      NaN                NaN   \n",
       "\n",
       "               Contact  \n",
       "0  database@esd.ny.gov  \n",
       "1  database@esd.ny.gov  \n",
       "\n",
       "[2 rows x 60 columns]"
      ]
     },
     "execution_count": 41,
     "metadata": {},
     "output_type": "execute_result"
    }
   ],
   "source": [
    "df = pd.read_csv('DOEI_Fraud_data.csv')\n",
    "df.head(2)"
   ]
  },
  {
   "cell_type": "code",
   "execution_count": 43,
   "metadata": {
    "colab": {
     "base_uri": "https://localhost:8080/"
    },
    "id": "PEgsJxdnV-EZ",
    "outputId": "dcac1341-d942-40a7-c4c9-325c90f465d2",
    "scrolled": false
   },
   "outputs": [
    {
     "name": "stdout",
     "output_type": "stream",
     "text": [
      "<class 'pandas.core.frame.DataFrame'>\n",
      "RangeIndex: 63364 entries, 0 to 63363\n",
      "Data columns (total 60 columns):\n",
      " #   Column                                                                                    Non-Null Count  Dtype  \n",
      "---  ------                                                                                    --------------  -----  \n",
      " 0   EIN of the recipient                                                                      3340 non-null   object \n",
      " 1   Lead Agency Name                                                                          63364 non-null  object \n",
      " 2   Lead Agency Code                                                                          63364 non-null  int64  \n",
      " 3   Quarter Number of the Submission                                                          63364 non-null  object \n",
      " 4   Project ID Number                                                                         63364 non-null  object \n",
      " 5   Program through which the funding was awarded                                             63364 non-null  object \n",
      " 6   Recipient Name                                                                            63362 non-null  object \n",
      " 7   Name of project                                                                           63362 non-null  object \n",
      " 8   Is the Award to a Public or Private Sector Entity?                                        63364 non-null  object \n",
      " 9   Project Description                                                                       63364 non-null  object \n",
      " 10  Industry                                                                                  55353 non-null  object \n",
      " 11  If the project is a Member Item, the originating district                                 224 non-null    object \n",
      " 12  Street Address                                                                            4143 non-null   object \n",
      " 13  County                                                                                    63364 non-null  object \n",
      " 14  Postal Code                                                                               4143 non-null   object \n",
      " 15  Economic Development Region                                                               63364 non-null  object \n",
      " 16  Start Date                                                                                63364 non-null  object \n",
      " 17  End Date                                                                                  61194 non-null  object \n",
      " 18  Assistance Type                                                                           63364 non-null  object \n",
      " 19  Assistance Amount                                                                         63188 non-null  float64\n",
      " 20  Total Lead Agency Benefits Awarded                                                        63189 non-null  float64\n",
      " 21  Disbursements to Date                                                                     62162 non-null  float64\n",
      " 22  Does this project include additional NYS benefits?                                        63364 non-null  object \n",
      " 23  If \"YES\" what is the additional awarding agency name?                                     40 non-null     object \n",
      " 24  Other State Agency Funding Program                                                        40 non-null     object \n",
      " 25  Other State Agency Funding Awarded                                                        3538 non-null   float64\n",
      " 26  Is the Project also receiving benefits from a local Industrial Development Agency (IDA)?  63364 non-null  object \n",
      " 27  If applicable, from which IDA is the project also receiving benefits?                     23 non-null     object \n",
      " 28  If applicable, what is the net value of the tax benefits awarded by the IDA?              3538 non-null   float64\n",
      " 29  Total NYS Investment                                                                      62903 non-null  float64\n",
      " 30  Total Public-Private Investment                                                           63204 non-null  float64\n",
      " 31  Project Status                                                                            63364 non-null  object \n",
      " 32  Compliant with Terms and Conditions                                                       63364 non-null  object \n",
      " 33  Reason for Non-Compliant Status                                                           2 non-null      object \n",
      " 34  Penalties Applied?                                                                        2 non-null      object \n",
      " 35  Rationale for Termination                                                                 2 non-null      object \n",
      " 36  Is this a Job Creation / Retention Project?                                               63364 non-null  object \n",
      " 37  Total Employees at the site (FTEs)                                                        61182 non-null  float64\n",
      " 38  Total Employees at the site (PTs)                                                         60953 non-null  float64\n",
      " 39  Total Employees at the site (project Hires in FTEs)                                       59256 non-null  float64\n",
      " 40  Total Employees at the site (project Hires in PT workers only)                            59256 non-null  float64\n",
      " 41  Job Creation Commitments (FTEs)                                                           1720 non-null   float64\n",
      " 42  Job Creation Commitments (PTs)                                                            648 non-null    float64\n",
      " 43  Job Retention Commitments (FTEs)                                                          1413 non-null   float64\n",
      " 44  Job Retention Commitments (PTs)                                                           647 non-null    float64\n",
      " 45  Jobs Created To-Date (FTEs)                                                               1319 non-null   float64\n",
      " 46  Jobs Created To-Date (PTs)                                                                648 non-null    float64\n",
      " 47  Jobs Retained To-Date (FTEs)                                                              1413 non-null   float64\n",
      " 48  Jobs Retained To-Date (PTs)                                                               649 non-null    float64\n",
      " 49  Project Hires (FTEs)                                                                      60309 non-null  float64\n",
      " 50  Project Hires (PTs)                                                                       59826 non-null  float64\n",
      " 51  NYS MWBE Utilization Goal Applied                                                         576 non-null    float64\n",
      " 52  Current MWBE Utilization Rate                                                             576 non-null    float64\n",
      " 53  Is this a legacy project                                                                  63364 non-null  object \n",
      " 54  Original Assistance Amount                                                                60023 non-null  float64\n",
      " 55  Original Jobs Created (FTE)                                                               716 non-null    float64\n",
      " 56  Original Jobs Retained (FTE)                                                              735 non-null    float64\n",
      " 57  Original Total Public-Private Investment                                                  60145 non-null  float64\n",
      " 58  Original Recipient                                                                        59982 non-null  object \n",
      " 59  Contact                                                                                   63364 non-null  object \n",
      "dtypes: float64(27), int64(1), object(32)\n",
      "memory usage: 29.0+ MB\n",
      "None\n"
     ]
    }
   ],
   "source": [
    "print(df.info())"
   ]
  },
  {
   "cell_type": "code",
   "execution_count": 62,
   "metadata": {},
   "outputs": [
    {
     "data": {
      "text/plain": [
       "If the project is a Member Item, the originating district\n",
       "Senate District #48      16\n",
       "Executive                11\n",
       "Senate District #26      11\n",
       "Senate District #34      10\n",
       "Conference Wide (S)      10\n",
       "                         ..\n",
       "Senate District #46       1\n",
       "Senate District #16       1\n",
       "Senate District #27       1\n",
       "Senate District #40       1\n",
       "Assembly District #72     1\n",
       "Name: count, Length: 69, dtype: int64"
      ]
     },
     "execution_count": 62,
     "metadata": {},
     "output_type": "execute_result"
    }
   ],
   "source": [
    "df['If the project is a Member Item, the originating district'].value_counts()"
   ]
  },
  {
   "cell_type": "code",
   "execution_count": 60,
   "metadata": {},
   "outputs": [],
   "source": [
    "df_cleaned = df.drop(df.columns[0:5], axis = 1)\n",
    "df_cleaned = df_cleaned.drop(['Project Description', 'Contact', \n",
    "                              'Penalties Applied?', 'Rationale for Termination',\n",
    "                             'Reason for Non-Compliant Status', 'Street Address',\n",
    "                             'Postal Code'], axis = 1)\n",
    "\n",
    "#Convert all instances where industry isnt specified to Not Specified or \"NS\"\n",
    "df_cleaned['Industry'].fillna('NS', inplace=True)"
   ]
  },
  {
   "cell_type": "code",
   "execution_count": 61,
   "metadata": {
    "scrolled": false
   },
   "outputs": [
    {
     "name": "stdout",
     "output_type": "stream",
     "text": [
      "<class 'pandas.core.frame.DataFrame'>\n",
      "RangeIndex: 63364 entries, 0 to 63363\n",
      "Data columns (total 48 columns):\n",
      " #   Column                                                                                    Non-Null Count  Dtype  \n",
      "---  ------                                                                                    --------------  -----  \n",
      " 0   Program through which the funding was awarded                                             63364 non-null  object \n",
      " 1   Recipient Name                                                                            63362 non-null  object \n",
      " 2   Name of project                                                                           63362 non-null  object \n",
      " 3   Is the Award to a Public or Private Sector Entity?                                        63364 non-null  object \n",
      " 4   Industry                                                                                  63364 non-null  object \n",
      " 5   If the project is a Member Item, the originating district                                 224 non-null    object \n",
      " 6   County                                                                                    63364 non-null  object \n",
      " 7   Economic Development Region                                                               63364 non-null  object \n",
      " 8   Start Date                                                                                63364 non-null  object \n",
      " 9   End Date                                                                                  61194 non-null  object \n",
      " 10  Assistance Type                                                                           63364 non-null  object \n",
      " 11  Assistance Amount                                                                         63188 non-null  float64\n",
      " 12  Total Lead Agency Benefits Awarded                                                        63189 non-null  float64\n",
      " 13  Disbursements to Date                                                                     62162 non-null  float64\n",
      " 14  Does this project include additional NYS benefits?                                        63364 non-null  object \n",
      " 15  If \"YES\" what is the additional awarding agency name?                                     40 non-null     object \n",
      " 16  Other State Agency Funding Program                                                        40 non-null     object \n",
      " 17  Other State Agency Funding Awarded                                                        3538 non-null   float64\n",
      " 18  Is the Project also receiving benefits from a local Industrial Development Agency (IDA)?  63364 non-null  object \n",
      " 19  If applicable, from which IDA is the project also receiving benefits?                     23 non-null     object \n",
      " 20  If applicable, what is the net value of the tax benefits awarded by the IDA?              3538 non-null   float64\n",
      " 21  Total NYS Investment                                                                      62903 non-null  float64\n",
      " 22  Total Public-Private Investment                                                           63204 non-null  float64\n",
      " 23  Project Status                                                                            63364 non-null  object \n",
      " 24  Compliant with Terms and Conditions                                                       63364 non-null  object \n",
      " 25  Is this a Job Creation / Retention Project?                                               63364 non-null  object \n",
      " 26  Total Employees at the site (FTEs)                                                        61182 non-null  float64\n",
      " 27  Total Employees at the site (PTs)                                                         60953 non-null  float64\n",
      " 28  Total Employees at the site (project Hires in FTEs)                                       59256 non-null  float64\n",
      " 29  Total Employees at the site (project Hires in PT workers only)                            59256 non-null  float64\n",
      " 30  Job Creation Commitments (FTEs)                                                           1720 non-null   float64\n",
      " 31  Job Creation Commitments (PTs)                                                            648 non-null    float64\n",
      " 32  Job Retention Commitments (FTEs)                                                          1413 non-null   float64\n",
      " 33  Job Retention Commitments (PTs)                                                           647 non-null    float64\n",
      " 34  Jobs Created To-Date (FTEs)                                                               1319 non-null   float64\n",
      " 35  Jobs Created To-Date (PTs)                                                                648 non-null    float64\n",
      " 36  Jobs Retained To-Date (FTEs)                                                              1413 non-null   float64\n",
      " 37  Jobs Retained To-Date (PTs)                                                               649 non-null    float64\n",
      " 38  Project Hires (FTEs)                                                                      60309 non-null  float64\n",
      " 39  Project Hires (PTs)                                                                       59826 non-null  float64\n",
      " 40  NYS MWBE Utilization Goal Applied                                                         576 non-null    float64\n",
      " 41  Current MWBE Utilization Rate                                                             576 non-null    float64\n",
      " 42  Is this a legacy project                                                                  63364 non-null  object \n",
      " 43  Original Assistance Amount                                                                60023 non-null  float64\n",
      " 44  Original Jobs Created (FTE)                                                               716 non-null    float64\n",
      " 45  Original Jobs Retained (FTE)                                                              735 non-null    float64\n",
      " 46  Original Total Public-Private Investment                                                  60145 non-null  float64\n",
      " 47  Original Recipient                                                                        59982 non-null  object \n",
      "dtypes: float64(27), object(21)\n",
      "memory usage: 23.2+ MB\n",
      "None\n"
     ]
    }
   ],
   "source": [
    "print(df_cleaned.info())"
   ]
  },
  {
   "cell_type": "markdown",
   "metadata": {
    "id": "FNOySPIsWBmL"
   },
   "source": [
    "### Selected Variables\n",
    "Program through which the funding was awarded: Name of program or funding source that is funding the economic assistance from reporting agency.\n",
    "\n",
    "Recipient Name: Name of organization receiving economic assistance from reporting agency.\n",
    "\n",
    "Name of project: Name of project.\n",
    "\n",
    "Is the Award to a Public or Private Sector Entity?: \"Public\" entity being any governmental entity, including but not limited to IDAs, cities, towns, villages, or counties. \"Private\" entity being any entity that does not fall under the definition of “Public” entity, including but not limited to private businesses and non-profit organizations.\n",
    "\n",
    "Industry: Primary industry sector of the project, based upon the two-digit NAICS code for recipient.\n",
    "\n",
    "If the project is a Member Item, the originating district: a project that is specifically allocated or sponsored by a government representative, such as a legislator or assembly member\n",
    "\n",
    "Street Address: Street or building location of project; projects with multiple addresses either list a primary address or “Various”. Some exact locations are approximated.\n",
    "\n",
    "County: County for location of project.\n",
    "\n",
    "Postal Code: Zip code for location of project.\n",
    "\n",
    "Economic Development Region: Region for location of project (derived from the 10 New York State Economic Development Regions).\n",
    "economic_development_region\n",
    "\n",
    "DOS: Start date of the contract ESD\n",
    "\n",
    "End Date\n",
    "DOS: Date that all financial assistance has been disbursed for the project. ESD: Date that all financial assistance has been disbursed for the project. HCR: Not applicable or not currently collected. NYPA: Date that all financial assistance has been disbursed for the project. NYSERDA: Date at which projects are completed.\n",
    "\n",
    "Assistance Type\n",
    "DOS: Type of assistance the project is receiving, defined as either loan, grant, or tax credit. ESD: Type of assistance the project is receiving, defined as either loan, grant, or tax credit. HCR: Not applicable or not currently collected. NYPA: Type of assistance the project is receiving, defined as either loan, grant, or tax credit. NYSERDA: NYSERDA’s funding type classification.\n",
    "\n",
    "Assistance Amount\n",
    "All: The total dollar value for the specific agency and project award. This does not include additional dollars awarded to the project from other state sources. - START-UP: The Start Date is not necessarily the beginning of the ten-year tax-free period or the date of disbursement. There is typically a lag in the disbursement time period.\n",
    "\n",
    "Total Lead Agency Benefits Awarded\n",
    "DOS: Total dollar amount of DOS assistance the project is receiving through the Downtown Revitalization Initiative ESD: Total amount of ESD assistance the project is receiving in dollars. - START-UP: The Start Date is not necessarily the beginning of the ten-year tax-free period or the date of disbursement. There is typically a lag in the disbursement time period. HCR: Amount of funding provided through the CDBG grant by HCR. NYPA: Total amount in dollars of the grant funding awarded by NYPA for the project described NYSERDA: Cumulative NYSERDA funding contracted through the most recent reporting period. Green Bank loans are omitted.\n",
    "\n",
    "Disbursements to Date\n",
    "All: The total dollars disbursed to the project, subject to a reporting lag.\n",
    "\n",
    "Does this project include additional NYS benefits?\n",
    "All: Indicates whether the project is receiving benefits outside of the reporting agency, program and award amount. This field can include other investments from the reporting agency (Yes/No).\n",
    "\n",
    "If \"YES\" what is the additional awarding agency name?\n",
    "If \"Yes\" to \"Does the project include additional NYS benefits?\", the name of the additional agency providing funding, if applicable.\n",
    "\n",
    "Other State Agency Funding Program\n",
    "All: The program through which the other agency is providing funding, if applicable.\n",
    "\n",
    "Other State Agency Funding Awarded\n",
    "All: Dollar amount of funding from other agencies, if applicable.\n",
    "\n",
    "Is the Project also receiving benefits from a local Industrial Development Agency (IDA)?\n",
    "All: Is the Project also receiving benefits from a local Industrial Development Agency (IDA) (Yes / No)\n",
    "\n",
    "If applicable, from which IDA is the project also receiving benefits?\n",
    "All: Name of the Industrial Development Agency, if applicable\n",
    "\n",
    "If applicable, what is the net value of the tax benefits awarded by the IDA?\n",
    "DOS: Calculated as net exemptions provided minus any PILOT payments made over the life of the IDA exemption, if applicable ESD: Calculated as the market value of all payments that would have been due minus any payments made. HCR: Not applicable or not currently collected. NYPA: n/a if not applicable NYSERDA: Not applicable or not currently collected.\n",
    "\n",
    "Total NYS Investment\n",
    "DOS: Total dollar amount of DOS and other known NYS agency investments ESD: Total dollar amount of the awarding agency and other known NYS agency investments. - START-UP: The Start Date is not necessarily the beginning of the ten-year tax-free period or the date of disbursement. There is typically a lag in the disbursement time period. HCR: The sum of HCR and other agency partner investment amounts. NYPA: Total amount in dollars, to include other NYS awards if known NYSERDA: Cumulative NYSERDA funding contracted through the most recent reporting period. Green Bank loans are omitted.\n"
   ]
  },
  {
   "cell_type": "markdown",
   "metadata": {
    "id": "PvSXA4r6e7fa"
   },
   "source": [
    "## Data Pre-Processing\n"
   ]
  },
  {
   "cell_type": "code",
   "execution_count": null,
   "metadata": {
    "id": "xrO2Cym3fgZj"
   },
   "outputs": [],
   "source": []
  },
  {
   "cell_type": "markdown",
   "metadata": {
    "id": "V6JTu_g8fe1Y"
   },
   "source": []
  }
 ],
 "metadata": {
  "colab": {
   "provenance": []
  },
  "kernelspec": {
   "display_name": "Python 3 (ipykernel)",
   "language": "python",
   "name": "python3"
  },
  "language_info": {
   "codemirror_mode": {
    "name": "ipython",
    "version": 3
   },
   "file_extension": ".py",
   "mimetype": "text/x-python",
   "name": "python",
   "nbconvert_exporter": "python",
   "pygments_lexer": "ipython3",
   "version": "3.11.5"
  }
 },
 "nbformat": 4,
 "nbformat_minor": 1
}
